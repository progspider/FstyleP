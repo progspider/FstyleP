{
  "cells": [
    {
      "cell_type": "code",
      "execution_count": null,
      "metadata": {
        "id": "-qs4_BtBM46P",
        "cellView": "form"
      },
      "outputs": [],
      "source": [
        "# @markdown # Select profile of Fooocus and start/restart\n",
        "\n",
        "Fooocus_Profile = \"realistic\" #@param [\"default\", \"realistic\", \"anime\"]\n",
        "Fooocus_Theme = \"dark\" #@param [\"dark\", \"light\"]\n",
        "\n",
        "!pip install pygit2==1.12.2\n",
        "%cd /content\n",
        "!git clone https://github.com/lllyasviel/Fooocus.git\n",
        "%cd /content/Fooocus\n",
        "#run foocus\n",
        "if Fooocus_Profile=='default':\n",
        "  profile=\"\"\n",
        "if Fooocus_Profile=='realistic':\n",
        "  profile=\"--preset realistic\"\n",
        "if Fooocus_Profile=='anime':\n",
        "  profile=\"--preset anime\"\n",
        "\n",
        "if Fooocus_Theme=='dark':\n",
        "  theme=\"--theme dark\"\n",
        "if Fooocus_Theme=='light':\n",
        "  theme=\"\"\n",
        "\n",
        "\n",
        "!python entry_with_update.py {profile} {theme} --share"
      ]
    },
    {
      "cell_type": "code",
      "execution_count": null,
      "metadata": {
        "collapsed": true,
        "id": "7Ovz7hfGvU-v",
        "cellView": "form"
      },
      "outputs": [],
      "source": [
        "# @markdown # For CivitAI ONLY\n",
        "\n",
        "#download model\n",
        "\n",
        "CivitAI_API_KEY = \"\" #@param {type:\"string\"}\n",
        "\n",
        "\n",
        "# @markdown ##If necessary, change the link to the form\n",
        "# @markdown ##Original link - https://civitai.com/api/download/models/329647?type=Model&format=SafeTensor\n",
        "# @markdown ##Paste link - https://civitai.com/api/download/models/329647\n",
        "\n",
        "Add_Model = False #@param {type:\"boolean\"}\n",
        "if Add_Model == True :\n",
        "  %cd /content/Fooocus/models/checkpoints\n",
        "  URL_Model = \"\" #@param {type:\"string\"}\n",
        "  !wget {URL_Model}'?token='{CivitAI_API_KEY} --content-disposition\n",
        "\n",
        "\n",
        "\n",
        "#download lora\n",
        "%cd /content/Fooocus/models/loras\n",
        "Add_Lora1 = False #@param {type:\"boolean\"}\n",
        "if Add_Lora1 == True :\n",
        "  URL_Lora1 = \"\" #@param {type:\"string\"}\n",
        "  !wget {URL_Lora1}'?token='{CivitAI_API_KEY} --content-disposition\n",
        "\n",
        "\n",
        "Add_Lora2 = False #@param {type:\"boolean\"}\n",
        "if Add_Lora2 == True :\n",
        "  URL_Lora2 = \"\" #@param {type:\"string\"}\n",
        "  !wget {URL_Lora2}'?token='{CivitAI_API_KEY} --content-disposition\n",
        "\n",
        "Add_Lora3 = False #@param {type:\"boolean\"}\n",
        "if Add_Lora3 == True :\n",
        "  URL_Lora3 = \"\" #@param {type:\"string\"}\n",
        "  !wget {URL_Lora3}'?token='{CivitAI_API_KEY} --content-disposition\n",
        "\n",
        "Add_Lora4 = False #@param {type:\"boolean\"}\n",
        "if Add_Lora4 == True :\n",
        "  URL_Lora4 = \"\" #@param {type:\"string\"}\n",
        "  !wget {URL_Lora4}'?token='{CivitAI_API_KEY} --content-disposition"
      ]
    },
    {
      "cell_type": "code",
      "execution_count": null,
      "metadata": {
        "collapsed": true,
        "id": "Q34-I_thhaSW",
        "cellView": "form"
      },
      "outputs": [],
      "source": [
        "# @markdown # Start for save 'outputs' to Google drive\n",
        "\n",
        "from google.colab import drive\n",
        "drive.mount('/content/drive')\n",
        "try:\n",
        "    with open(\"/content/Fooocus/config.txt\", \"r+\") as text_file:\n",
        "        texts = text_file.read()\n",
        "        texts = texts.replace(\"/content/Fooocus/outputs\", \"/content/drive/MyDrive/outputs\")\n",
        "    with open(\"/content/Fooocus/config.txt\", \"w\") as text_file:\n",
        "        text_file.write(texts)\n",
        "except FileNotFoundError as f:\n",
        "    print(\"Could not find the file you are trying to read.\")\n",
        "from google.colab import drive\n",
        "drive.mount('/content/drive', force_remount=True)\n",
        "!mkdir /content/drive/MyDrive/outputs"
      ]
    },
    {
      "cell_type": "code",
      "source": [
        "# @markdown # Prompt Google.Translate\n",
        "%cd /content\n",
        "!wget https://github.com/AlekPet/Fooocus_Extensions_AlekPet/archive/refs/heads/main.zip\n",
        "!unzip -o /content/main.zip\n",
        "!cp -r /content/Fooocus_Extensions_AlekPet-main/patcher_webui.py /content/patcher_webui.py\n",
        "!cp -r /content/Fooocus_Extensions_AlekPet-main/prompt_translate/modules/module_translate.py /content/Fooocus/modules/module_translate.py\n",
        "!python /content/patcher_webui.py\n",
        "!rm -rf /content/Fooocus_Extensions_AlekPet-main\n",
        "!rm main.zip"
      ],
      "metadata": {
        "id": "vkaU04xX4bb5",
        "collapsed": true,
        "cellView": "form"
      },
      "execution_count": null,
      "outputs": []
    }
  ],
  "metadata": {
    "accelerator": "GPU",
    "colab": {
      "provenance": [],
      "gpuType": "T4",
      "mount_file_id": "1nHVCPPwTDdYA_1-JJ9KYHFStJ_yvNeZ4",
      "authorship_tag": "ABX9TyOI8egmHABiVV0PJS4WEYJn"
    },
    "kernelspec": {
      "display_name": "Python 3",
      "name": "python3"
    },
    "language_info": {
      "name": "python"
    }
  },
  "nbformat": 4,
  "nbformat_minor": 0
}