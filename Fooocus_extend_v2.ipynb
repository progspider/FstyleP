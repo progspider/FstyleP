{
  "cells": [
    {
      "cell_type": "code",
      "execution_count": null,
      "metadata": {
        "colab": {
          "background_save": true
        },
        "id": "-qs4_BtBM46P",
        "cellView": "form"
      },
      "outputs": [],
      "source": [
        "# @markdown # Select profile of Fooocus and start/restart\n",
        "\n",
        "Fooocus_Profile = \"realistic\" #@param [\"default\", \"realistic\", \"anime\"]\n",
        "Fooocus_Theme = \"dark\" #@param [\"dark\", \"light\"]\n",
        "\n",
        "!pip install pygit2==1.12.2\n",
        "%cd /content\n",
        "!git clone https://github.com/lllyasviel/Fooocus.git\n",
        "\n",
        "Memory_patch = True #@param {type:\"boolean\"}\n",
        "patch=\"\"\n",
        "if Memory_patch == True :\n",
        "    patch=\"--always-high-vram --all-in-fp16\"\n",
        "\n",
        "GoogleDrive_output = True #@param {type:\"boolean\"}\n",
        "if GoogleDrive_output == True :\n",
        "    from google.colab import drive\n",
        "    drive.mount('/content/drive')\n",
        "    try:\n",
        "        with open(\"/content/Fooocus/modules/config.py\", \"r+\") as text_file:\n",
        "            texts = text_file.read()\n",
        "            texts = texts.replace(\"../outputs/\", \"/content/drive/MyDrive/outputs\")\n",
        "        with open(\"/content/Fooocus/modules/config.py\", \"w\") as text_file:\n",
        "            text_file.write(texts)\n",
        "    except FileNotFoundError as f:\n",
        "        print(\"Could not find the file you are trying to read.\")\n",
        "    #from google.colab import drive\n",
        "    drive.mount('/content/drive', force_remount=True)\n",
        "    !mkdir /content/drive/MyDrive/outputs\n",
        "\n",
        "%cd /content\n",
        "!wget -O patch_download.py https://github.com/shaitanzx/Fooocus_extend/raw/main/patch_download.py\n",
        "!python /content/patch_download.py\n",
        "!rm /content/patch_download.py\n",
        "\n",
        "Prompt_translate = True #@param {type:\"boolean\"}\n",
        "\n",
        "\n",
        "if Prompt_translate == True :\n",
        "    %cd /content\n",
        "    !wget https://github.com/AlekPet/Fooocus_Extensions_AlekPet/archive/refs/heads/main.zip\n",
        "    !unzip -o /content/main.zip\n",
        "    !cp -r /content/Fooocus_Extensions_AlekPet-main/patcher_webui.py /content/patcher_webui.py\n",
        "    !cp -r /content/Fooocus_Extensions_AlekPet-main/prompt_translate/modules/module_translate.py /content/Fooocus/modules/module_translate.py\n",
        "    !python /content/patcher_webui.py\n",
        "    !rm -rf /content/Fooocus_Extensions_AlekPet-main\n",
        "    !rm main.zip\n",
        "\n",
        "%cd /content/Fooocus\n",
        "\n",
        "#run foocus\n",
        "if Fooocus_Profile=='default':\n",
        "  profile=\"\"\n",
        "if Fooocus_Profile=='realistic':\n",
        "  profile=\"--preset realistic\"\n",
        "if Fooocus_Profile=='anime':\n",
        "  profile=\"--preset anime\"\n",
        "\n",
        "if Fooocus_Theme=='dark':\n",
        "  theme=\"--theme dark\"\n",
        "if Fooocus_Theme=='light':\n",
        "  theme=\"\"\n",
        "\n",
        "!python entry_with_update.py {profile} {theme} --share {patch}\n",
        "\n",
        "# @markdown For apply emmbeding, in the prompt field use a record like (embedding:file_name:1.1)\n",
        "\n",
        "\n",
        "# @markdown Prompt Translane by AlekPet (https://github.com/AlekPet/Fooocus_Extensions_AlekPet)"
      ]
    }
  ],
  "metadata": {
    "accelerator": "GPU",
    "colab": {
      "gpuType": "T4",
      "provenance": [],
      "mount_file_id": "1nHVCPPwTDdYA_1-JJ9KYHFStJ_yvNeZ4",
      "authorship_tag": "ABX9TyNW6+8x5Vh1wfWWSYlkHg4c"
    },
    "kernelspec": {
      "display_name": "Python 3",
      "name": "python3"
    },
    "language_info": {
      "name": "python"
    }
  },
  "nbformat": 4,
  "nbformat_minor": 0
}
